{
 "cells": [
  {
   "cell_type": "markdown",
   "metadata": {},
   "source": [
    "# How to Sample Data in Python"
   ]
  },
  {
   "cell_type": "markdown",
   "metadata": {},
   "source": [
    "## Learning Objectives\n",
    "In order to get an unbiased assessment of the performance of a supervised machine learning model, we need to evaluate it based on data that it did not previously encounter during the training process. To accomplish this, we must first split our data into a training subset and a test subset prior to the model build stage. One common way to split data in this fashion is by creating non-overlapping subsets of the original data using one of several **sampling** approaches. By the end of the tutorial, you will have learned:\n",
    "\n",
    "+ how to split data using simple random sampling\n",
    "+ how to split data using stratified random sampling"
   ]
  },
  {
   "cell_type": "code",
   "execution_count": 1,
   "metadata": {
    "colab": {},
    "colab_type": "code",
    "id": "ZBtXnome3fr0",
    "scrolled": false
   },
   "outputs": [
    {
     "data": {
      "application/vnd.microsoft.datawrangler.viewer.v0+json": {
       "columns": [
        {
         "name": "index",
         "rawType": "int64",
         "type": "integer"
        },
        {
         "name": "citympg",
         "rawType": "float64",
         "type": "float"
        },
        {
         "name": "cylinders",
         "rawType": "int64",
         "type": "integer"
        },
        {
         "name": "displacement",
         "rawType": "float64",
         "type": "float"
        },
        {
         "name": "drive",
         "rawType": "object",
         "type": "string"
        },
        {
         "name": "highwaympg",
         "rawType": "float64",
         "type": "float"
        },
        {
         "name": "make",
         "rawType": "object",
         "type": "string"
        },
        {
         "name": "model",
         "rawType": "object",
         "type": "string"
        },
        {
         "name": "class",
         "rawType": "object",
         "type": "string"
        },
        {
         "name": "year",
         "rawType": "int64",
         "type": "integer"
        },
        {
         "name": "transmissiontype",
         "rawType": "object",
         "type": "string"
        },
        {
         "name": "transmissionspeeds",
         "rawType": "int64",
         "type": "integer"
        },
        {
         "name": "co2emissions",
         "rawType": "float64",
         "type": "float"
        }
       ],
       "conversionMethod": "pd.DataFrame",
       "ref": "d539a4cd-ed6d-4c6f-98b4-526cdc14c3b5",
       "rows": [
        [
         "0",
         "14.0",
         "6",
         "4.1",
         "2-Wheel Drive",
         "19.0",
         "Buick",
         "Electra/Park Avenue",
         "Large Cars",
         "1984",
         "Automatic",
         "4",
         "555.4375"
        ],
        [
         "1",
         "14.0",
         "8",
         "5.0",
         "2-Wheel Drive",
         "20.0",
         "Buick",
         "Electra/Park Avenue",
         "Large Cars",
         "1984",
         "Automatic",
         "4",
         "555.4375"
        ],
        [
         "2",
         "18.0",
         "8",
         "5.7",
         "2-Wheel Drive",
         "26.0",
         "Buick",
         "Electra/Park Avenue",
         "Large Cars",
         "1984",
         "Automatic",
         "4",
         "484.7619048"
        ],
        [
         "3",
         "21.0",
         "6",
         "4.3",
         "Rear-Wheel Drive",
         "31.0",
         "Cadillac",
         "Fleetwood/DeVille (FWD)",
         "Large Cars",
         "1984",
         "Automatic",
         "4",
         "424.1666667"
        ],
        [
         "4",
         "14.0",
         "8",
         "4.1",
         "Rear-Wheel Drive",
         "19.0",
         "Cadillac",
         "Brougham/DeVille (RWD)",
         "Large Cars",
         "1984",
         "Automatic",
         "4",
         "555.4375"
        ],
        [
         "5",
         "18.0",
         "8",
         "5.7",
         "Rear-Wheel Drive",
         "26.0",
         "Cadillac",
         "Brougham/DeVille (RWD)",
         "Large Cars",
         "1984",
         "Automatic",
         "4",
         "484.7619048"
        ],
        [
         "6",
         "14.0",
         "8",
         "4.1",
         "Rear-Wheel Drive",
         "19.0",
         "Cadillac",
         "Brougham/DeVille (RWD)",
         "Large Cars",
         "1984",
         "Automatic",
         "4",
         "555.4375"
        ],
        [
         "7",
         "18.0",
         "4",
         "2.4",
         "2-Wheel Drive",
         "21.0",
         "Nissan",
         "Pickup 2WD",
         "Pickup",
         "1984",
         "Automatic",
         "3",
         "467.7368421"
        ],
        [
         "8",
         "18.0",
         "4",
         "2.2",
         "2-Wheel Drive",
         "24.0",
         "Dodge",
         "Rampage Pickup 2WD",
         "Pickup",
         "1984",
         "Automatic",
         "3",
         "423.1904762"
        ],
        [
         "9",
         "20.0",
         "4",
         "2.0",
         "2-Wheel Drive",
         "21.0",
         "Dodge",
         "Ram 50 Pickup 2WD",
         "Pickup",
         "1984",
         "Automatic",
         "3",
         "444.35"
        ],
        [
         "10",
         "18.0",
         "4",
         "2.0",
         "2-Wheel Drive",
         "20.0",
         "Dodge",
         "Ram 50 Pickup 2WD",
         "Pickup",
         "1984",
         "Automatic",
         "3",
         "467.7368421"
        ],
        [
         "11",
         "18.0",
         "4",
         "2.6",
         "2-Wheel Drive",
         "19.0",
         "Dodge",
         "Ram 50 Pickup 2WD",
         "Pickup",
         "1984",
         "Automatic",
         "3",
         "493.7222222"
        ],
        [
         "12",
         "19.0",
         "4",
         "2.6",
         "2-Wheel Drive",
         "20.0",
         "Dodge",
         "Ram 50 Pickup 2WD",
         "Pickup",
         "1984",
         "Automatic",
         "3",
         "444.35"
        ],
        [
         "13",
         "18.0",
         "4",
         "2.3",
         "2-Wheel Drive",
         "22.0",
         "Ford",
         "Ranger Pickup 2WD",
         "Pickup",
         "1984",
         "Automatic",
         "3",
         "467.7368421"
        ],
        [
         "14",
         "18.0",
         "4",
         "2.0",
         "2-Wheel Drive",
         "20.0",
         "Isuzu",
         "Pickup 2WD",
         "Pickup",
         "1984",
         "Automatic",
         "3",
         "467.7368421"
        ],
        [
         "15",
         "23.0",
         "4",
         "2.2",
         "2-Wheel Drive",
         "24.0",
         "Isuzu",
         "Pickup 2WD",
         "Pickup",
         "1984",
         "Automatic",
         "3",
         "424.1666667"
        ],
        [
         "16",
         "20.0",
         "4",
         "2.0",
         "2-Wheel Drive",
         "21.0",
         "Mitsubishi",
         "Truck 2WD",
         "Pickup",
         "1984",
         "Automatic",
         "3",
         "444.35"
        ],
        [
         "17",
         "18.0",
         "4",
         "2.0",
         "2-Wheel Drive",
         "20.0",
         "Mitsubishi",
         "Truck 2WD",
         "Pickup",
         "1984",
         "Automatic",
         "3",
         "467.7368421"
        ],
        [
         "18",
         "18.0",
         "4",
         "2.6",
         "2-Wheel Drive",
         "19.0",
         "Mitsubishi",
         "Truck 2WD",
         "Pickup",
         "1984",
         "Automatic",
         "3",
         "493.7222222"
        ],
        [
         "19",
         "19.0",
         "4",
         "2.6",
         "2-Wheel Drive",
         "20.0",
         "Mitsubishi",
         "Truck 2WD",
         "Pickup",
         "1984",
         "Automatic",
         "3",
         "444.35"
        ],
        [
         "20",
         "18.0",
         "4",
         "2.0",
         "2-Wheel Drive",
         "20.0",
         "Mazda",
         "B2000/B2200 Pickup 2WD",
         "Pickup",
         "1984",
         "Automatic",
         "3",
         "467.7368421"
        ],
        [
         "21",
         "18.0",
         "4",
         "2.0",
         "2-Wheel Drive",
         "24.0",
         "Chevrolet",
         "S10 Pickup 2WD",
         "Pickup",
         "1984",
         "Automatic",
         "3",
         "444.35"
        ],
        [
         "22",
         "18.0",
         "4",
         "2.4",
         "2-Wheel Drive",
         "21.0",
         "Nissan",
         "Pickup 2WD",
         "Pickup",
         "1984",
         "Automatic",
         "3",
         "467.7368421"
        ],
        [
         "23",
         "19.0",
         "4",
         "2.2",
         "2-Wheel Drive",
         "24.0",
         "Dodge",
         "Rampage Pickup 2WD",
         "Pickup",
         "1984",
         "Automatic",
         "3",
         "423.1904762"
        ],
        [
         "24",
         "18.0",
         "4",
         "2.0",
         "2-Wheel Drive",
         "20.0",
         "Dodge",
         "Ram 50 Pickup 2WD",
         "Pickup",
         "1984",
         "Automatic",
         "3",
         "467.7368421"
        ],
        [
         "25",
         "18.0",
         "4",
         "2.6",
         "2-Wheel Drive",
         "19.0",
         "Dodge",
         "Ram 50 Pickup 2WD",
         "Pickup",
         "1984",
         "Automatic",
         "3",
         "493.7222222"
        ],
        [
         "26",
         "18.0",
         "4",
         "2.3",
         "2-Wheel Drive",
         "20.0",
         "Ford",
         "Ranger Pickup 2WD",
         "Pickup",
         "1984",
         "Automatic",
         "3",
         "467.7368421"
        ],
        [
         "27",
         "18.0",
         "4",
         "2.0",
         "2-Wheel Drive",
         "24.0",
         "GMC",
         "S15 Pickup 2WD",
         "Pickup",
         "1984",
         "Automatic",
         "3",
         "444.35"
        ],
        [
         "28",
         "18.0",
         "4",
         "2.0",
         "2-Wheel Drive",
         "21.0",
         "Isuzu",
         "Pickup 2WD",
         "Pickup",
         "1984",
         "Automatic",
         "3",
         "467.7368421"
        ],
        [
         "29",
         "23.0",
         "4",
         "2.2",
         "2-Wheel Drive",
         "24.0",
         "Isuzu",
         "Pickup 2WD",
         "Pickup",
         "1984",
         "Automatic",
         "3",
         "424.1666667"
        ],
        [
         "30",
         "18.0",
         "4",
         "2.0",
         "2-Wheel Drive",
         "20.0",
         "Mitsubishi",
         "Truck 2WD",
         "Pickup",
         "1984",
         "Automatic",
         "3",
         "467.7368421"
        ],
        [
         "31",
         "18.0",
         "4",
         "2.6",
         "2-Wheel Drive",
         "19.0",
         "Mitsubishi",
         "Truck 2WD",
         "Pickup",
         "1984",
         "Automatic",
         "3",
         "493.7222222"
        ],
        [
         "32",
         "17.0",
         "4",
         "2.0",
         "2-Wheel Drive",
         "19.0",
         "Mazda",
         "B2000/B2200 Pickup 2WD",
         "Pickup",
         "1984",
         "Automatic",
         "3",
         "493.7222222"
        ],
        [
         "33",
         "18.0",
         "4",
         "2.0",
         "2-Wheel Drive",
         "24.0",
         "Chevrolet",
         "S10 Pickup 2WD",
         "Pickup",
         "1984",
         "Automatic",
         "4",
         "444.35"
        ],
        [
         "34",
         "18.0",
         "4",
         "2.0",
         "2-Wheel Drive",
         "24.0",
         "GMC",
         "S15 Pickup 2WD",
         "Pickup",
         "1984",
         "Automatic",
         "4",
         "444.35"
        ],
        [
         "35",
         "21.0",
         "4",
         "2.0",
         "2-Wheel Drive",
         "29.0",
         "Chevrolet",
         "S10 Pickup 2WD",
         "Pickup",
         "1984",
         "Manual",
         "4",
         "370.2916667"
        ],
        [
         "36",
         "19.0",
         "4",
         "2.0",
         "2-Wheel Drive",
         "25.0",
         "Chevrolet",
         "S10 Pickup 2WD",
         "Pickup",
         "1984",
         "Manual",
         "4",
         "423.1904762"
        ],
        [
         "37",
         "26.0",
         "4",
         "2.2",
         "2-Wheel Drive",
         "31.0",
         "Chevrolet",
         "S10 Pickup 2WD",
         "Pickup",
         "1984",
         "Manual",
         "4",
         "363.5714286"
        ],
        [
         "38",
         "21.0",
         "4",
         "2.2",
         "2-Wheel Drive",
         "28.0",
         "Dodge",
         "Rampage Pickup 2WD",
         "Pickup",
         "1984",
         "Manual",
         "4",
         "386.3913043"
        ],
        [
         "39",
         "21.0",
         "4",
         "2.0",
         "2-Wheel Drive",
         "23.0",
         "Dodge",
         "Ram 50 Pickup 2WD",
         "Pickup",
         "1984",
         "Manual",
         "4",
         "403.9545455"
        ],
        [
         "40",
         "20.0",
         "4",
         "2.0",
         "2-Wheel Drive",
         "22.0",
         "Dodge",
         "Ram 50 Pickup 2WD",
         "Pickup",
         "1984",
         "Manual",
         "4",
         "423.1904762"
        ],
        [
         "41",
         "21.0",
         "4",
         "2.0",
         "2-Wheel Drive",
         "25.0",
         "Ford",
         "Courier Pickup 2WD",
         "Pickup",
         "1984",
         "Manual",
         "4",
         "403.9545455"
        ],
        [
         "42",
         "21.0",
         "4",
         "2.0",
         "2-Wheel Drive",
         "28.0",
         "Ford",
         "Ranger Pickup 2WD",
         "Pickup",
         "1984",
         "Manual",
         "4",
         "370.2916667"
        ],
        [
         "43",
         "25.0",
         "4",
         "2.2",
         "2-Wheel Drive",
         "28.0",
         "Ford",
         "Ranger Pickup 2WD",
         "Pickup",
         "1984",
         "Manual",
         "4",
         "391.5384615"
        ],
        [
         "44",
         "19.0",
         "4",
         "2.3",
         "2-Wheel Drive",
         "24.0",
         "Ford",
         "Ranger Pickup 2WD",
         "Pickup",
         "1984",
         "Manual",
         "4",
         "423.1904762"
        ],
        [
         "45",
         "17.0",
         "4",
         "2.3",
         "2-Wheel Drive",
         "22.0",
         "Ford",
         "Ranger Pickup 2WD",
         "Pickup",
         "1984",
         "Manual",
         "4",
         "467.7368421"
        ],
        [
         "46",
         "21.0",
         "4",
         "2.0",
         "2-Wheel Drive",
         "29.0",
         "GMC",
         "S15 Pickup 2WD",
         "Pickup",
         "1984",
         "Manual",
         "4",
         "370.2916667"
        ],
        [
         "47",
         "19.0",
         "4",
         "2.0",
         "2-Wheel Drive",
         "25.0",
         "GMC",
         "S15 Pickup 2WD",
         "Pickup",
         "1984",
         "Manual",
         "4",
         "423.1904762"
        ],
        [
         "48",
         "26.0",
         "4",
         "2.2",
         "2-Wheel Drive",
         "31.0",
         "GMC",
         "S15 Pickup 2WD",
         "Pickup",
         "1984",
         "Manual",
         "4",
         "363.5714286"
        ],
        [
         "49",
         "22.0",
         "4",
         "2.0",
         "2-Wheel Drive",
         "28.0",
         "Isuzu",
         "Pickup 2WD",
         "Pickup",
         "1984",
         "Manual",
         "4",
         "370.2916667"
        ]
       ],
       "shape": {
        "columns": 12,
        "rows": 36979
       }
      },
      "text/html": [
       "<div>\n",
       "<style scoped>\n",
       "    .dataframe tbody tr th:only-of-type {\n",
       "        vertical-align: middle;\n",
       "    }\n",
       "\n",
       "    .dataframe tbody tr th {\n",
       "        vertical-align: top;\n",
       "    }\n",
       "\n",
       "    .dataframe thead th {\n",
       "        text-align: right;\n",
       "    }\n",
       "</style>\n",
       "<table border=\"1\" class=\"dataframe\">\n",
       "  <thead>\n",
       "    <tr style=\"text-align: right;\">\n",
       "      <th></th>\n",
       "      <th>citympg</th>\n",
       "      <th>cylinders</th>\n",
       "      <th>displacement</th>\n",
       "      <th>drive</th>\n",
       "      <th>highwaympg</th>\n",
       "      <th>make</th>\n",
       "      <th>model</th>\n",
       "      <th>class</th>\n",
       "      <th>year</th>\n",
       "      <th>transmissiontype</th>\n",
       "      <th>transmissionspeeds</th>\n",
       "      <th>co2emissions</th>\n",
       "    </tr>\n",
       "  </thead>\n",
       "  <tbody>\n",
       "    <tr>\n",
       "      <th>0</th>\n",
       "      <td>14.0</td>\n",
       "      <td>6</td>\n",
       "      <td>4.1</td>\n",
       "      <td>2-Wheel Drive</td>\n",
       "      <td>19.0</td>\n",
       "      <td>Buick</td>\n",
       "      <td>Electra/Park Avenue</td>\n",
       "      <td>Large Cars</td>\n",
       "      <td>1984</td>\n",
       "      <td>Automatic</td>\n",
       "      <td>4</td>\n",
       "      <td>555.437500</td>\n",
       "    </tr>\n",
       "    <tr>\n",
       "      <th>1</th>\n",
       "      <td>14.0</td>\n",
       "      <td>8</td>\n",
       "      <td>5.0</td>\n",
       "      <td>2-Wheel Drive</td>\n",
       "      <td>20.0</td>\n",
       "      <td>Buick</td>\n",
       "      <td>Electra/Park Avenue</td>\n",
       "      <td>Large Cars</td>\n",
       "      <td>1984</td>\n",
       "      <td>Automatic</td>\n",
       "      <td>4</td>\n",
       "      <td>555.437500</td>\n",
       "    </tr>\n",
       "    <tr>\n",
       "      <th>2</th>\n",
       "      <td>18.0</td>\n",
       "      <td>8</td>\n",
       "      <td>5.7</td>\n",
       "      <td>2-Wheel Drive</td>\n",
       "      <td>26.0</td>\n",
       "      <td>Buick</td>\n",
       "      <td>Electra/Park Avenue</td>\n",
       "      <td>Large Cars</td>\n",
       "      <td>1984</td>\n",
       "      <td>Automatic</td>\n",
       "      <td>4</td>\n",
       "      <td>484.761905</td>\n",
       "    </tr>\n",
       "    <tr>\n",
       "      <th>3</th>\n",
       "      <td>21.0</td>\n",
       "      <td>6</td>\n",
       "      <td>4.3</td>\n",
       "      <td>Rear-Wheel Drive</td>\n",
       "      <td>31.0</td>\n",
       "      <td>Cadillac</td>\n",
       "      <td>Fleetwood/DeVille (FWD)</td>\n",
       "      <td>Large Cars</td>\n",
       "      <td>1984</td>\n",
       "      <td>Automatic</td>\n",
       "      <td>4</td>\n",
       "      <td>424.166667</td>\n",
       "    </tr>\n",
       "    <tr>\n",
       "      <th>4</th>\n",
       "      <td>14.0</td>\n",
       "      <td>8</td>\n",
       "      <td>4.1</td>\n",
       "      <td>Rear-Wheel Drive</td>\n",
       "      <td>19.0</td>\n",
       "      <td>Cadillac</td>\n",
       "      <td>Brougham/DeVille (RWD)</td>\n",
       "      <td>Large Cars</td>\n",
       "      <td>1984</td>\n",
       "      <td>Automatic</td>\n",
       "      <td>4</td>\n",
       "      <td>555.437500</td>\n",
       "    </tr>\n",
       "    <tr>\n",
       "      <th>...</th>\n",
       "      <td>...</td>\n",
       "      <td>...</td>\n",
       "      <td>...</td>\n",
       "      <td>...</td>\n",
       "      <td>...</td>\n",
       "      <td>...</td>\n",
       "      <td>...</td>\n",
       "      <td>...</td>\n",
       "      <td>...</td>\n",
       "      <td>...</td>\n",
       "      <td>...</td>\n",
       "      <td>...</td>\n",
       "    </tr>\n",
       "    <tr>\n",
       "      <th>36974</th>\n",
       "      <td>17.0</td>\n",
       "      <td>8</td>\n",
       "      <td>4.7</td>\n",
       "      <td>Rear-Wheel Drive</td>\n",
       "      <td>25.0</td>\n",
       "      <td>Mercedes-Benz</td>\n",
       "      <td>SL550</td>\n",
       "      <td>Two Seaters</td>\n",
       "      <td>2018</td>\n",
       "      <td>Automatic</td>\n",
       "      <td>9</td>\n",
       "      <td>442.000000</td>\n",
       "    </tr>\n",
       "    <tr>\n",
       "      <th>36975</th>\n",
       "      <td>16.0</td>\n",
       "      <td>8</td>\n",
       "      <td>6.2</td>\n",
       "      <td>Rear-Wheel Drive</td>\n",
       "      <td>25.0</td>\n",
       "      <td>Chevrolet</td>\n",
       "      <td>Corvette</td>\n",
       "      <td>Two Seaters</td>\n",
       "      <td>2018</td>\n",
       "      <td>Manual</td>\n",
       "      <td>7</td>\n",
       "      <td>466.000000</td>\n",
       "    </tr>\n",
       "    <tr>\n",
       "      <th>36976</th>\n",
       "      <td>15.0</td>\n",
       "      <td>8</td>\n",
       "      <td>6.2</td>\n",
       "      <td>Rear-Wheel Drive</td>\n",
       "      <td>22.0</td>\n",
       "      <td>Chevrolet</td>\n",
       "      <td>Corvette</td>\n",
       "      <td>Two Seaters</td>\n",
       "      <td>2018</td>\n",
       "      <td>Manual</td>\n",
       "      <td>7</td>\n",
       "      <td>503.000000</td>\n",
       "    </tr>\n",
       "    <tr>\n",
       "      <th>36977</th>\n",
       "      <td>12.0</td>\n",
       "      <td>12</td>\n",
       "      <td>6.5</td>\n",
       "      <td>Rear-Wheel Drive</td>\n",
       "      <td>16.0</td>\n",
       "      <td>Ferrari</td>\n",
       "      <td>812 Superfast</td>\n",
       "      <td>Two Seaters</td>\n",
       "      <td>2018</td>\n",
       "      <td>Automatic</td>\n",
       "      <td>7</td>\n",
       "      <td>661.000000</td>\n",
       "    </tr>\n",
       "    <tr>\n",
       "      <th>36978</th>\n",
       "      <td>13.0</td>\n",
       "      <td>12</td>\n",
       "      <td>6.0</td>\n",
       "      <td>Rear-Wheel Drive</td>\n",
       "      <td>22.0</td>\n",
       "      <td>Mercedes-Benz</td>\n",
       "      <td>AMG SL65</td>\n",
       "      <td>Two Seaters</td>\n",
       "      <td>2018</td>\n",
       "      <td>Automatic</td>\n",
       "      <td>7</td>\n",
       "      <td>546.000000</td>\n",
       "    </tr>\n",
       "  </tbody>\n",
       "</table>\n",
       "<p>36979 rows × 12 columns</p>\n",
       "</div>"
      ],
      "text/plain": [
       "       citympg  cylinders  displacement             drive  highwaympg  \\\n",
       "0         14.0          6           4.1     2-Wheel Drive        19.0   \n",
       "1         14.0          8           5.0     2-Wheel Drive        20.0   \n",
       "2         18.0          8           5.7     2-Wheel Drive        26.0   \n",
       "3         21.0          6           4.3  Rear-Wheel Drive        31.0   \n",
       "4         14.0          8           4.1  Rear-Wheel Drive        19.0   \n",
       "...        ...        ...           ...               ...         ...   \n",
       "36974     17.0          8           4.7  Rear-Wheel Drive        25.0   \n",
       "36975     16.0          8           6.2  Rear-Wheel Drive        25.0   \n",
       "36976     15.0          8           6.2  Rear-Wheel Drive        22.0   \n",
       "36977     12.0         12           6.5  Rear-Wheel Drive        16.0   \n",
       "36978     13.0         12           6.0  Rear-Wheel Drive        22.0   \n",
       "\n",
       "                make                    model        class  year  \\\n",
       "0              Buick      Electra/Park Avenue   Large Cars  1984   \n",
       "1              Buick      Electra/Park Avenue   Large Cars  1984   \n",
       "2              Buick      Electra/Park Avenue   Large Cars  1984   \n",
       "3           Cadillac  Fleetwood/DeVille (FWD)   Large Cars  1984   \n",
       "4           Cadillac   Brougham/DeVille (RWD)   Large Cars  1984   \n",
       "...              ...                      ...          ...   ...   \n",
       "36974  Mercedes-Benz                    SL550  Two Seaters  2018   \n",
       "36975      Chevrolet                 Corvette  Two Seaters  2018   \n",
       "36976      Chevrolet                 Corvette  Two Seaters  2018   \n",
       "36977        Ferrari            812 Superfast  Two Seaters  2018   \n",
       "36978  Mercedes-Benz                 AMG SL65  Two Seaters  2018   \n",
       "\n",
       "      transmissiontype  transmissionspeeds  co2emissions  \n",
       "0            Automatic                   4    555.437500  \n",
       "1            Automatic                   4    555.437500  \n",
       "2            Automatic                   4    484.761905  \n",
       "3            Automatic                   4    424.166667  \n",
       "4            Automatic                   4    555.437500  \n",
       "...                ...                 ...           ...  \n",
       "36974        Automatic                   9    442.000000  \n",
       "36975           Manual                   7    466.000000  \n",
       "36976           Manual                   7    503.000000  \n",
       "36977        Automatic                   7    661.000000  \n",
       "36978        Automatic                   7    546.000000  \n",
       "\n",
       "[36979 rows x 12 columns]"
      ]
     },
     "execution_count": 1,
     "metadata": {},
     "output_type": "execute_result"
    }
   ],
   "source": [
    "import pandas as pd\n",
    "vehicles = pd.read_csv(\"../data/vehicles.csv\")\n",
    "vehicles"
   ]
  },
  {
   "cell_type": "code",
   "execution_count": 2,
   "metadata": {
    "scrolled": true
   },
   "outputs": [
    {
     "data": {
      "application/vnd.microsoft.datawrangler.viewer.v0+json": {
       "columns": [
        {
         "name": "index",
         "rawType": "int64",
         "type": "integer"
        },
        {
         "name": "co2emissions",
         "rawType": "float64",
         "type": "float"
        }
       ],
       "conversionMethod": "pd.DataFrame",
       "ref": "e42cf5f4-183d-4da1-89ce-763f985fcb38",
       "rows": [
        [
         "0",
         "555.4375"
        ],
        [
         "1",
         "555.4375"
        ],
        [
         "2",
         "484.7619048"
        ],
        [
         "3",
         "424.1666667"
        ],
        [
         "4",
         "555.4375"
        ]
       ],
       "shape": {
        "columns": 1,
        "rows": 5
       }
      },
      "text/html": [
       "<div>\n",
       "<style scoped>\n",
       "    .dataframe tbody tr th:only-of-type {\n",
       "        vertical-align: middle;\n",
       "    }\n",
       "\n",
       "    .dataframe tbody tr th {\n",
       "        vertical-align: top;\n",
       "    }\n",
       "\n",
       "    .dataframe thead th {\n",
       "        text-align: right;\n",
       "    }\n",
       "</style>\n",
       "<table border=\"1\" class=\"dataframe\">\n",
       "  <thead>\n",
       "    <tr style=\"text-align: right;\">\n",
       "      <th></th>\n",
       "      <th>co2emissions</th>\n",
       "    </tr>\n",
       "  </thead>\n",
       "  <tbody>\n",
       "    <tr>\n",
       "      <th>0</th>\n",
       "      <td>555.437500</td>\n",
       "    </tr>\n",
       "    <tr>\n",
       "      <th>1</th>\n",
       "      <td>555.437500</td>\n",
       "    </tr>\n",
       "    <tr>\n",
       "      <th>2</th>\n",
       "      <td>484.761905</td>\n",
       "    </tr>\n",
       "    <tr>\n",
       "      <th>3</th>\n",
       "      <td>424.166667</td>\n",
       "    </tr>\n",
       "    <tr>\n",
       "      <th>4</th>\n",
       "      <td>555.437500</td>\n",
       "    </tr>\n",
       "  </tbody>\n",
       "</table>\n",
       "</div>"
      ],
      "text/plain": [
       "   co2emissions\n",
       "0    555.437500\n",
       "1    555.437500\n",
       "2    484.761905\n",
       "3    424.166667\n",
       "4    555.437500"
      ]
     },
     "execution_count": 2,
     "metadata": {},
     "output_type": "execute_result"
    }
   ],
   "source": [
    "response = 'co2emissions'\n",
    "y = vehicles[[response]]\n",
    "y.head()"
   ]
  },
  {
   "cell_type": "code",
   "execution_count": 3,
   "metadata": {},
   "outputs": [
    {
     "data": {
      "text/plain": [
       "['citympg',\n",
       " 'cylinders',\n",
       " 'displacement',\n",
       " 'drive',\n",
       " 'highwaympg',\n",
       " 'make',\n",
       " 'model',\n",
       " 'class',\n",
       " 'year',\n",
       " 'transmissiontype',\n",
       " 'transmissionspeeds',\n",
       " 'co2emissions']"
      ]
     },
     "execution_count": 3,
     "metadata": {},
     "output_type": "execute_result"
    }
   ],
   "source": [
    "predictors = list(vehicles.columns)\n",
    "predictors"
   ]
  },
  {
   "cell_type": "code",
   "execution_count": 4,
   "metadata": {},
   "outputs": [
    {
     "data": {
      "text/plain": [
       "['citympg',\n",
       " 'cylinders',\n",
       " 'displacement',\n",
       " 'drive',\n",
       " 'highwaympg',\n",
       " 'make',\n",
       " 'model',\n",
       " 'class',\n",
       " 'year',\n",
       " 'transmissiontype',\n",
       " 'transmissionspeeds']"
      ]
     },
     "execution_count": 4,
     "metadata": {},
     "output_type": "execute_result"
    }
   ],
   "source": [
    "predictors.remove(response)\n",
    "predictors"
   ]
  },
  {
   "cell_type": "code",
   "execution_count": 5,
   "metadata": {
    "scrolled": false
   },
   "outputs": [
    {
     "data": {
      "application/vnd.microsoft.datawrangler.viewer.v0+json": {
       "columns": [
        {
         "name": "index",
         "rawType": "int64",
         "type": "integer"
        },
        {
         "name": "citympg",
         "rawType": "float64",
         "type": "float"
        },
        {
         "name": "cylinders",
         "rawType": "int64",
         "type": "integer"
        },
        {
         "name": "displacement",
         "rawType": "float64",
         "type": "float"
        },
        {
         "name": "drive",
         "rawType": "object",
         "type": "string"
        },
        {
         "name": "highwaympg",
         "rawType": "float64",
         "type": "float"
        },
        {
         "name": "make",
         "rawType": "object",
         "type": "string"
        },
        {
         "name": "model",
         "rawType": "object",
         "type": "string"
        },
        {
         "name": "class",
         "rawType": "object",
         "type": "string"
        },
        {
         "name": "year",
         "rawType": "int64",
         "type": "integer"
        },
        {
         "name": "transmissiontype",
         "rawType": "object",
         "type": "string"
        },
        {
         "name": "transmissionspeeds",
         "rawType": "int64",
         "type": "integer"
        }
       ],
       "conversionMethod": "pd.DataFrame",
       "ref": "6fa3019d-1674-46fb-a2bc-d85025d00000",
       "rows": [
        [
         "0",
         "14.0",
         "6",
         "4.1",
         "2-Wheel Drive",
         "19.0",
         "Buick",
         "Electra/Park Avenue",
         "Large Cars",
         "1984",
         "Automatic",
         "4"
        ],
        [
         "1",
         "14.0",
         "8",
         "5.0",
         "2-Wheel Drive",
         "20.0",
         "Buick",
         "Electra/Park Avenue",
         "Large Cars",
         "1984",
         "Automatic",
         "4"
        ],
        [
         "2",
         "18.0",
         "8",
         "5.7",
         "2-Wheel Drive",
         "26.0",
         "Buick",
         "Electra/Park Avenue",
         "Large Cars",
         "1984",
         "Automatic",
         "4"
        ],
        [
         "3",
         "21.0",
         "6",
         "4.3",
         "Rear-Wheel Drive",
         "31.0",
         "Cadillac",
         "Fleetwood/DeVille (FWD)",
         "Large Cars",
         "1984",
         "Automatic",
         "4"
        ],
        [
         "4",
         "14.0",
         "8",
         "4.1",
         "Rear-Wheel Drive",
         "19.0",
         "Cadillac",
         "Brougham/DeVille (RWD)",
         "Large Cars",
         "1984",
         "Automatic",
         "4"
        ]
       ],
       "shape": {
        "columns": 11,
        "rows": 5
       }
      },
      "text/html": [
       "<div>\n",
       "<style scoped>\n",
       "    .dataframe tbody tr th:only-of-type {\n",
       "        vertical-align: middle;\n",
       "    }\n",
       "\n",
       "    .dataframe tbody tr th {\n",
       "        vertical-align: top;\n",
       "    }\n",
       "\n",
       "    .dataframe thead th {\n",
       "        text-align: right;\n",
       "    }\n",
       "</style>\n",
       "<table border=\"1\" class=\"dataframe\">\n",
       "  <thead>\n",
       "    <tr style=\"text-align: right;\">\n",
       "      <th></th>\n",
       "      <th>citympg</th>\n",
       "      <th>cylinders</th>\n",
       "      <th>displacement</th>\n",
       "      <th>drive</th>\n",
       "      <th>highwaympg</th>\n",
       "      <th>make</th>\n",
       "      <th>model</th>\n",
       "      <th>class</th>\n",
       "      <th>year</th>\n",
       "      <th>transmissiontype</th>\n",
       "      <th>transmissionspeeds</th>\n",
       "    </tr>\n",
       "  </thead>\n",
       "  <tbody>\n",
       "    <tr>\n",
       "      <th>0</th>\n",
       "      <td>14.0</td>\n",
       "      <td>6</td>\n",
       "      <td>4.1</td>\n",
       "      <td>2-Wheel Drive</td>\n",
       "      <td>19.0</td>\n",
       "      <td>Buick</td>\n",
       "      <td>Electra/Park Avenue</td>\n",
       "      <td>Large Cars</td>\n",
       "      <td>1984</td>\n",
       "      <td>Automatic</td>\n",
       "      <td>4</td>\n",
       "    </tr>\n",
       "    <tr>\n",
       "      <th>1</th>\n",
       "      <td>14.0</td>\n",
       "      <td>8</td>\n",
       "      <td>5.0</td>\n",
       "      <td>2-Wheel Drive</td>\n",
       "      <td>20.0</td>\n",
       "      <td>Buick</td>\n",
       "      <td>Electra/Park Avenue</td>\n",
       "      <td>Large Cars</td>\n",
       "      <td>1984</td>\n",
       "      <td>Automatic</td>\n",
       "      <td>4</td>\n",
       "    </tr>\n",
       "    <tr>\n",
       "      <th>2</th>\n",
       "      <td>18.0</td>\n",
       "      <td>8</td>\n",
       "      <td>5.7</td>\n",
       "      <td>2-Wheel Drive</td>\n",
       "      <td>26.0</td>\n",
       "      <td>Buick</td>\n",
       "      <td>Electra/Park Avenue</td>\n",
       "      <td>Large Cars</td>\n",
       "      <td>1984</td>\n",
       "      <td>Automatic</td>\n",
       "      <td>4</td>\n",
       "    </tr>\n",
       "    <tr>\n",
       "      <th>3</th>\n",
       "      <td>21.0</td>\n",
       "      <td>6</td>\n",
       "      <td>4.3</td>\n",
       "      <td>Rear-Wheel Drive</td>\n",
       "      <td>31.0</td>\n",
       "      <td>Cadillac</td>\n",
       "      <td>Fleetwood/DeVille (FWD)</td>\n",
       "      <td>Large Cars</td>\n",
       "      <td>1984</td>\n",
       "      <td>Automatic</td>\n",
       "      <td>4</td>\n",
       "    </tr>\n",
       "    <tr>\n",
       "      <th>4</th>\n",
       "      <td>14.0</td>\n",
       "      <td>8</td>\n",
       "      <td>4.1</td>\n",
       "      <td>Rear-Wheel Drive</td>\n",
       "      <td>19.0</td>\n",
       "      <td>Cadillac</td>\n",
       "      <td>Brougham/DeVille (RWD)</td>\n",
       "      <td>Large Cars</td>\n",
       "      <td>1984</td>\n",
       "      <td>Automatic</td>\n",
       "      <td>4</td>\n",
       "    </tr>\n",
       "  </tbody>\n",
       "</table>\n",
       "</div>"
      ],
      "text/plain": [
       "   citympg  cylinders  displacement             drive  highwaympg      make  \\\n",
       "0     14.0          6           4.1     2-Wheel Drive        19.0     Buick   \n",
       "1     14.0          8           5.0     2-Wheel Drive        20.0     Buick   \n",
       "2     18.0          8           5.7     2-Wheel Drive        26.0     Buick   \n",
       "3     21.0          6           4.3  Rear-Wheel Drive        31.0  Cadillac   \n",
       "4     14.0          8           4.1  Rear-Wheel Drive        19.0  Cadillac   \n",
       "\n",
       "                     model       class  year transmissiontype  \\\n",
       "0      Electra/Park Avenue  Large Cars  1984        Automatic   \n",
       "1      Electra/Park Avenue  Large Cars  1984        Automatic   \n",
       "2      Electra/Park Avenue  Large Cars  1984        Automatic   \n",
       "3  Fleetwood/DeVille (FWD)  Large Cars  1984        Automatic   \n",
       "4   Brougham/DeVille (RWD)  Large Cars  1984        Automatic   \n",
       "\n",
       "   transmissionspeeds  \n",
       "0                   4  \n",
       "1                   4  \n",
       "2                   4  \n",
       "3                   4  \n",
       "4                   4  "
      ]
     },
     "execution_count": 5,
     "metadata": {},
     "output_type": "execute_result"
    }
   ],
   "source": [
    "x = vehicles[predictors]\n",
    "x.head()"
   ]
  },
  {
   "cell_type": "markdown",
   "metadata": {},
   "source": [
    "## How to split data using Simple Random Sampling"
   ]
  },
  {
   "cell_type": "code",
   "execution_count": 6,
   "metadata": {},
   "outputs": [],
   "source": [
    "from sklearn.model_selection import train_test_split"
   ]
  },
  {
   "cell_type": "code",
   "execution_count": 7,
   "metadata": {},
   "outputs": [],
   "source": [
    "x_train, x_test, y_train, y_test = train_test_split(x, y) "
   ]
  },
  {
   "cell_type": "code",
   "execution_count": 8,
   "metadata": {},
   "outputs": [
    {
     "data": {
      "text/plain": [
       "(27734, 11)"
      ]
     },
     "execution_count": 8,
     "metadata": {},
     "output_type": "execute_result"
    }
   ],
   "source": [
    "x_train.shape"
   ]
  },
  {
   "cell_type": "code",
   "execution_count": 9,
   "metadata": {},
   "outputs": [
    {
     "data": {
      "text/plain": [
       "(27734, 1)"
      ]
     },
     "execution_count": 9,
     "metadata": {},
     "output_type": "execute_result"
    }
   ],
   "source": [
    "y_train.shape"
   ]
  },
  {
   "cell_type": "code",
   "execution_count": 10,
   "metadata": {},
   "outputs": [
    {
     "data": {
      "text/plain": [
       "(9245, 11)"
      ]
     },
     "execution_count": 10,
     "metadata": {},
     "output_type": "execute_result"
    }
   ],
   "source": [
    "x_test.shape"
   ]
  },
  {
   "cell_type": "code",
   "execution_count": 11,
   "metadata": {},
   "outputs": [
    {
     "data": {
      "text/plain": [
       "(9245, 1)"
      ]
     },
     "execution_count": 11,
     "metadata": {},
     "output_type": "execute_result"
    }
   ],
   "source": [
    "y_test.shape"
   ]
  },
  {
   "cell_type": "code",
   "execution_count": 12,
   "metadata": {},
   "outputs": [
    {
     "data": {
      "text/plain": [
       "(14792, 11)"
      ]
     },
     "execution_count": 12,
     "metadata": {},
     "output_type": "execute_result"
    }
   ],
   "source": [
    "x_train, x_test, y_train, y_test = train_test_split(x, y, \n",
    "                                                    test_size = 0.4) \n",
    "x_test.shape"
   ]
  },
  {
   "cell_type": "markdown",
   "metadata": {},
   "source": [
    "## How to split data using Stratified Random Sampling"
   ]
  },
  {
   "cell_type": "code",
   "execution_count": 13,
   "metadata": {},
   "outputs": [],
   "source": [
    "x_train, x_test, y_train, y_test = train_test_split(x, y, \n",
    "                                                    test_size = 0.01, \n",
    "                                                    random_state = 1234) "
   ]
  },
  {
   "cell_type": "code",
   "execution_count": 14,
   "metadata": {
    "scrolled": false
   },
   "outputs": [
    {
     "data": {
      "text/plain": [
       "drive\n",
       "Rear-Wheel Drive     0.356797\n",
       "Front-Wheel Drive    0.353552\n",
       "All-Wheel Drive      0.239893\n",
       "4-Wheel Drive        0.036480\n",
       "2-Wheel Drive        0.013278\n",
       "Name: proportion, dtype: float64"
      ]
     },
     "execution_count": 14,
     "metadata": {},
     "output_type": "execute_result"
    }
   ],
   "source": [
    "x['drive'].value_counts(normalize = True)"
   ]
  },
  {
   "cell_type": "code",
   "execution_count": 15,
   "metadata": {
    "scrolled": false
   },
   "outputs": [
    {
     "data": {
      "text/plain": [
       "drive\n",
       "Front-Wheel Drive    0.364865\n",
       "Rear-Wheel Drive     0.332432\n",
       "All-Wheel Drive      0.248649\n",
       "4-Wheel Drive        0.035135\n",
       "2-Wheel Drive        0.018919\n",
       "Name: proportion, dtype: float64"
      ]
     },
     "execution_count": 15,
     "metadata": {},
     "output_type": "execute_result"
    }
   ],
   "source": [
    "x_test['drive'].value_counts(normalize = True)"
   ]
  },
  {
   "cell_type": "code",
   "execution_count": 16,
   "metadata": {},
   "outputs": [],
   "source": [
    "x_train, x_test, y_train, y_test = train_test_split(x, y, \n",
    "                                                    test_size = 0.01, \n",
    "                                                    random_state = 1234, \n",
    "                                                    stratify = x['drive']) "
   ]
  },
  {
   "cell_type": "code",
   "execution_count": 17,
   "metadata": {
    "scrolled": true
   },
   "outputs": [
    {
     "data": {
      "text/plain": [
       "drive\n",
       "Rear-Wheel Drive     0.356757\n",
       "Front-Wheel Drive    0.354054\n",
       "All-Wheel Drive      0.240541\n",
       "4-Wheel Drive        0.035135\n",
       "2-Wheel Drive        0.013514\n",
       "Name: proportion, dtype: float64"
      ]
     },
     "execution_count": 17,
     "metadata": {},
     "output_type": "execute_result"
    }
   ],
   "source": [
    "x_test['drive'].value_counts(normalize = True)"
   ]
  }
 ],
 "metadata": {
  "colab": {
   "collapsed_sections": [],
   "name": "3.3 - Pandas Data Selection.ipynb",
   "provenance": [],
   "toc_visible": true,
   "version": "0.3.2"
  },
  "kernelspec": {
   "display_name": "Python 3",
   "language": "python",
   "name": "python3"
  },
  "language_info": {
   "codemirror_mode": {
    "name": "ipython",
    "version": 3
   },
   "file_extension": ".py",
   "mimetype": "text/x-python",
   "name": "python",
   "nbconvert_exporter": "python",
   "pygments_lexer": "ipython3",
   "version": "3.9.0"
  }
 },
 "nbformat": 4,
 "nbformat_minor": 1
}
